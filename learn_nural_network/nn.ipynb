{
 "cells": [
  {
   "cell_type": "code",
   "execution_count": 2,
   "id": "03af868d",
   "metadata": {},
   "outputs": [],
   "source": [
    "import os\n",
    "os.environ['KMP_DUPLICATE_LIB_OK'] = 'True'\n",
    "import torch\n",
    "import torch.nn as nn\n",
    "import torch.nn.functional as F\n",
    "import matplotlib.pyplot as plt\n",
    "import numpy as np\n",
    "from PIL import Image\n",
    "import requests\n",
    "from io import BytesIO\n",
    "import torchvision.transforms as transforms\n"
   ]
  },
  {
   "cell_type": "code",
   "execution_count": 3,
   "id": "66a19d53",
   "metadata": {},
   "outputs": [],
   "source": [
    "#设置设备\n",
    "device = torch.device(\"cuda\" if torch.cuda.is_available() else \"cpu\")"
   ]
  },
  {
   "cell_type": "code",
   "execution_count": 4,
   "id": "97ecfe59",
   "metadata": {},
   "outputs": [],
   "source": [
    "def corr2d(X, K):\n",
    "    \"\"\"计算二维互相关运算\"\"\"\n",
    "    h,w=K.shape   \n",
    "    Y=torch.zeros((X.shape[0]-h+1,X.shape[1]-w+1))\n",
    "    for i in range(Y.shape[0]):\n",
    "        for j in range(Y.shape[1]):\n",
    "            Y[i,j]=(X[i:i+h,j:j+w]*K).sum()\n",
    "    return Y\n"
   ]
  },
  {
   "cell_type": "code",
   "execution_count": 5,
   "id": "e8d269d4",
   "metadata": {},
   "outputs": [
    {
     "data": {
      "text/plain": [
       "tensor([[19., 25.],\n",
       "        [37., 43.]])"
      ]
     },
     "execution_count": 5,
     "metadata": {},
     "output_type": "execute_result"
    }
   ],
   "source": [
    "X=torch.tensor([[0,1,2],[3,4,5],[6,7,8]],dtype=torch.float32)\n",
    "K=torch.tensor([[0,1],[2,3]],dtype=torch.float32)\n",
    "corr2d(X,K)"
   ]
  },
  {
   "cell_type": "code",
   "execution_count": 6,
   "id": "204d8505",
   "metadata": {},
   "outputs": [],
   "source": [
    "#实现卷积层\n",
    "class Conv2D(nn.Module):\n",
    "    def _init(self,kernel_size):\n",
    "        super().__init__()\n",
    "        self.weight=nn.Parameter(torch.rand(kernel_size))\n",
    "        self.bias=nn.Parameter(torch.zeros(1))\n",
    "        \n",
    "    def forward(self,X):\n",
    "        return corr2d(X,self.weight)+self.bias"
   ]
  },
  {
   "cell_type": "code",
   "execution_count": 8,
   "id": "44390097",
   "metadata": {},
   "outputs": [
    {
     "data": {
      "text/plain": [
       "tensor([[1., 1., 0., 0., 0., 0., 1., 1.],\n",
       "        [1., 1., 0., 0., 0., 0., 1., 1.],\n",
       "        [1., 1., 0., 0., 0., 0., 1., 1.],\n",
       "        [1., 1., 0., 0., 0., 0., 1., 1.],\n",
       "        [1., 1., 0., 0., 0., 0., 1., 1.],\n",
       "        [1., 1., 0., 0., 0., 0., 1., 1.]])"
      ]
     },
     "execution_count": 8,
     "metadata": {},
     "output_type": "execute_result"
    }
   ],
   "source": [
    "#实现利用卷积层完成图像边缘的检测\n",
    "X=torch.ones((6,8),dtype=torch.float32)\n",
    "X[:,2:6]=0\n",
    "X"
   ]
  },
  {
   "cell_type": "code",
   "execution_count": 10,
   "id": "7ee7823b",
   "metadata": {},
   "outputs": [
    {
     "data": {
      "text/plain": [
       "tensor([[ 0.,  1.,  0.,  0.,  0., -1.,  0.],\n",
       "        [ 0.,  1.,  0.,  0.,  0., -1.,  0.],\n",
       "        [ 0.,  1.,  0.,  0.,  0., -1.,  0.],\n",
       "        [ 0.,  1.,  0.,  0.,  0., -1.,  0.],\n",
       "        [ 0.,  1.,  0.,  0.,  0., -1.,  0.],\n",
       "        [ 0.,  1.,  0.,  0.,  0., -1.,  0.]])"
      ]
     },
     "execution_count": 10,
     "metadata": {},
     "output_type": "execute_result"
    }
   ],
   "source": [
    "K=torch.tensor([[1.0, -1.0]])\n",
    "Y=corr2d(X,K)\n",
    "Y"
   ]
  },
  {
   "cell_type": "markdown",
   "id": "d32ed2a8",
   "metadata": {},
   "source": [
    "对于卷积核[1.0，-1.0]，如果是相同的连续数字，则输出为0，若是不想同的数字，则输出为1.0或-1.0\n",
    "也就由此产生了图像边缘的检测"
   ]
  },
  {
   "cell_type": "code",
   "execution_count": 12,
   "id": "e475580c",
   "metadata": {},
   "outputs": [
    {
     "name": "stdout",
     "output_type": "stream",
     "text": [
      "epoch 10, loss 0.305, weight tensor([ 0.9308, -1.0440])\n",
      "epoch 20, loss 0.003, weight tensor([ 0.9938, -1.0059])\n",
      "epoch 30, loss 0.000, weight tensor([ 0.9993, -1.0007])\n",
      "epoch 40, loss 0.000, weight tensor([ 0.9999, -1.0001])\n",
      "epoch 50, loss 0.000, weight tensor([ 1.0000, -1.0000])\n",
      "epoch 60, loss 0.000, weight tensor([ 1.0000, -1.0000])\n",
      "epoch 70, loss 0.000, weight tensor([ 1.0000, -1.0000])\n",
      "epoch 80, loss 0.000, weight tensor([ 1.0000, -1.0000])\n",
      "epoch 90, loss 0.000, weight tensor([ 1.0000, -1.0000])\n",
      "epoch 100, loss 0.000, weight tensor([ 1.0000, -1.0000])\n"
     ]
    },
    {
     "data": {
      "text/plain": [
       "tensor([ 1.0000, -1.0000])"
      ]
     },
     "execution_count": 12,
     "metadata": {},
     "output_type": "execute_result"
    }
   ],
   "source": [
    "#学习由X生成Y的卷积核\n",
    "conv2d=nn.Conv2d(in_channels=1,out_channels=1,kernel_size=(1,2),bias=False)\n",
    "x=X.reshape((1,1,6,8))\n",
    "y=Y.reshape((1,1,6,7))  \n",
    "\n",
    "for i in range(100):\n",
    "    y_hat=conv2d(x)\n",
    "    l=(y_hat-y)**2\n",
    "    conv2d.zero_grad()\n",
    "    l.sum().backward()\n",
    "    conv2d.weight.data[:]-=3e-2*conv2d.weight.grad\n",
    "    if (i+1) % 10 == 0:\n",
    "        print(f'epoch {i+1}, loss {l.sum():.3f}, weight {conv2d.weight.data.reshape(-1)}')\n",
    "        \n",
    "        \n",
    "#输出卷积核\n",
    "conv2d.weight.data.reshape(-1)\n",
    "\n",
    "        "
   ]
  }
 ],
 "metadata": {
  "kernelspec": {
   "display_name": "base",
   "language": "python",
   "name": "python3"
  },
  "language_info": {
   "codemirror_mode": {
    "name": "ipython",
    "version": 3
   },
   "file_extension": ".py",
   "mimetype": "text/x-python",
   "name": "python",
   "nbconvert_exporter": "python",
   "pygments_lexer": "ipython3",
   "version": "3.12.3"
  }
 },
 "nbformat": 4,
 "nbformat_minor": 5
}
