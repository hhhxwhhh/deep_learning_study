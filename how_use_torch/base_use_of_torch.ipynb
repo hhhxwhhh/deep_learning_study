{
 "cells": [
  {
   "cell_type": "code",
   "execution_count": 1,
   "id": "33ae0c7a",
   "metadata": {},
   "outputs": [],
   "source": [
    "import os\n",
    "os.environ['KMP_DUPLICATE_LIB_OK']='TRUE'\n"
   ]
  },
  {
   "cell_type": "code",
   "execution_count": 2,
   "id": "7628240e",
   "metadata": {},
   "outputs": [
    {
     "name": "stdout",
     "output_type": "stream",
     "text": [
      "tensor([1, 2, 3])\n"
     ]
    }
   ],
   "source": [
    "import torch\n",
    "torch.tensor([1,2,3])\n",
    "print(torch.tensor([1,2,3]))"
   ]
  },
  {
   "cell_type": "code",
   "execution_count": 4,
   "id": "314916c0",
   "metadata": {},
   "outputs": [
    {
     "name": "stdout",
     "output_type": "stream",
     "text": [
      "tensor([[0],\n",
      "        [1],\n",
      "        [2]]) 对应的形状为： torch.Size([3, 1]) \n",
      " tensor([[0, 1]]) 对应的形状为： torch.Size([1, 2])\n",
      "a+b的结果为：\n",
      "tensor([[0, 1],\n",
      "        [1, 2],\n",
      "        [2, 3]])\n",
      "a+b的结果对应的形状为： torch.Size([3, 2])\n"
     ]
    }
   ],
   "source": [
    "#简单介绍广播机制\n",
    "a=torch.arange(3).reshape(3,1)\n",
    "b=torch.arange(2).reshape(1,2)\n",
    "print(a,\"对应的形状为：\", a.shape,\"\\n\", b,\"对应的形状为：\", b.shape)\n",
    "print(\"a+b的结果为：\")\n",
    "print(a+b)\n",
    "print(\"a+b的结果对应的形状为：\", (a+b).shape)"
   ]
  },
  {
   "cell_type": "code",
   "execution_count": 6,
   "id": "cb754ea5",
   "metadata": {},
   "outputs": [
    {
     "name": "stdout",
     "output_type": "stream",
     "text": [
      "修改a的第一列为100后，a的结果为：\n",
      "tensor([[100],\n",
      "        [100],\n",
      "        [100]])\n"
     ]
    }
   ],
   "source": [
    "#使用torch进行简单的运算赋值\n",
    "a[:,0]=100\n",
    "print(\"修改a的第一列为100后，a的结果为：\")\n",
    "print(a)"
   ]
  },
  {
   "cell_type": "code",
   "execution_count": 8,
   "id": "ed665180",
   "metadata": {},
   "outputs": [
    {
     "name": "stdout",
     "output_type": "stream",
     "text": [
      "修改前a的id为： 2751724006816\n",
      "修改后a的id为： 2751724004976\n"
     ]
    }
   ],
   "source": [
    "#给出内存相关的例子\n",
    "before=id(a)\n",
    "print(\"修改前a的id为：\", before)\n",
    "a=a+b\n",
    "id(a)==before\n",
    "print(\"修改后a的id为：\", id(a))"
   ]
  },
  {
   "cell_type": "code",
   "execution_count": 10,
   "id": "aef98461",
   "metadata": {},
   "outputs": [
    {
     "name": "stdout",
     "output_type": "stream",
     "text": [
      "修改前a的id为： 2751724004976\n",
      "a和b的id相同\n",
      "修改后a的id为： 2751724004976\n"
     ]
    }
   ],
   "source": [
    "#给出内存相关的例子\n",
    "before=id(a)\n",
    "print(\"修改前a的id为：\", before)\n",
    "a+=b\n",
    "if(id(a)==before):\n",
    "    print(\"a和b的id相同\")\n",
    "else:\n",
    "    print(\"a和b的id不同\")\n",
    "print(\"修改后a的id为：\", id(a))"
   ]
  },
  {
   "cell_type": "code",
   "execution_count": 11,
   "id": "9685004d",
   "metadata": {},
   "outputs": [
    {
     "name": "stdout",
     "output_type": "stream",
     "text": [
      "a_num的类型为： <class 'numpy.ndarray'>\n",
      "b_tor的类型为： <class 'torch.Tensor'>\n"
     ]
    }
   ],
   "source": [
    "#torch and numpy\n",
    "import numpy as np\n",
    "a_num=a.numpy()\n",
    "b_tor=torch.tensor(a_num)\n",
    "print(\"a_num的类型为：\", type(a_num))\n",
    "print(\"b_tor的类型为：\", type(b_tor))"
   ]
  }
 ],
 "metadata": {
  "kernelspec": {
   "display_name": "base",
   "language": "python",
   "name": "python3"
  },
  "language_info": {
   "codemirror_mode": {
    "name": "ipython",
    "version": 3
   },
   "file_extension": ".py",
   "mimetype": "text/x-python",
   "name": "python",
   "nbconvert_exporter": "python",
   "pygments_lexer": "ipython3",
   "version": "3.12.3"
  }
 },
 "nbformat": 4,
 "nbformat_minor": 5
}
