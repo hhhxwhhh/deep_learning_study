{
 "cells": [
  {
   "cell_type": "code",
   "execution_count": 1,
   "id": "77135a71",
   "metadata": {},
   "outputs": [
    {
     "name": "stdout",
     "output_type": "stream",
     "text": [
      "   1  2  3\n",
      "0  4  5  6\n"
     ]
    }
   ],
   "source": [
    "import pandas as pd   \n",
    "import os\n",
    "os.environ['KMP_DUPLICATE_LIB_OK'] = 'True'  #解决多线程问题\n",
    "import torch\n",
    "data_file=pd.read_csv('../how_use_torch/data.csv')\n",
    "print(data_file.head())"
   ]
  },
  {
   "cell_type": "code",
   "execution_count": 4,
   "id": "9fbb84e7",
   "metadata": {},
   "outputs": [
    {
     "name": "stdout",
     "output_type": "stream",
     "text": [
      "1799744398400\n",
      "a的形状: torch.Size([2, 3])\n",
      "b的形状: torch.Size([3, 2])\n",
      "1799744398640\n",
      "a和b的矩阵乘法结果c:\n",
      "tensor([[ 58,  64],\n",
      "        [139, 154]])\n",
      "c的形状: torch.Size([2, 2])\n",
      "1799678097712\n"
     ]
    }
   ],
   "source": [
    "#使用torch进行线性代数运算\n",
    "a=torch.tensor([[1,2,3],[4,5,6]])\n",
    "print(id(a))\n",
    "print(\"a的形状:\", a.shape)\n",
    "b=torch.tensor([[7,8],[9,10],[11,12]])\n",
    "print(\"b的形状:\", b.shape)\n",
    "print(id(b))\n",
    "c=torch.mm(a,b)\n",
    "print(\"a和b的矩阵乘法结果c:\")\n",
    "print(c)\n",
    "print(\"c的形状:\", c.shape)\n",
    "print(id(c))"
   ]
  },
  {
   "cell_type": "code",
   "execution_count": 5,
   "id": "a73ffa10",
   "metadata": {},
   "outputs": [],
   "source": [
    "#给出对称矩阵与非对称矩阵\n",
    "system_matrix=torch.tensor([[1,2,3],[2,5,6],[3,6,9]])\n",
    "non_system_matrix=torch.tensor([[1,2,3],[4,5,6],[7,8,9]])"
   ]
  }
 ],
 "metadata": {
  "kernelspec": {
   "display_name": "base",
   "language": "python",
   "name": "python3"
  },
  "language_info": {
   "codemirror_mode": {
    "name": "ipython",
    "version": 3
   },
   "file_extension": ".py",
   "mimetype": "text/x-python",
   "name": "python",
   "nbconvert_exporter": "python",
   "pygments_lexer": "ipython3",
   "version": "3.12.3"
  }
 },
 "nbformat": 4,
 "nbformat_minor": 5
}
