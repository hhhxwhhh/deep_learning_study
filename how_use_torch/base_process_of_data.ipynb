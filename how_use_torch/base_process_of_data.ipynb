{
 "cells": [
  {
   "cell_type": "code",
   "execution_count": 1,
   "id": "77135a71",
   "metadata": {},
   "outputs": [
    {
     "name": "stdout",
     "output_type": "stream",
     "text": [
      "   1  2  3\n",
      "0  4  5  6\n"
     ]
    }
   ],
   "source": [
    "import pandas as pd   \n",
    "import os\n",
    "os.environ['KMP_DUPLICATE_LIB_OK'] = 'True'  #解决多线程问题\n",
    "import torch\n",
    "data_file=pd.read_csv('../how_use_torch/data.csv')\n",
    "print(data_file.head())"
   ]
  },
  {
   "cell_type": "code",
   "execution_count": 2,
   "id": "9fbb84e7",
   "metadata": {},
   "outputs": [
    {
     "name": "stdout",
     "output_type": "stream",
     "text": [
      "3221993118912\n",
      "a的形状: torch.Size([2, 3])\n",
      "b的形状: torch.Size([3, 2])\n",
      "3221377861984\n",
      "a和b的矩阵乘法结果c:\n",
      "tensor([[ 58,  64],\n",
      "        [139, 154]])\n",
      "c的形状: torch.Size([2, 2])\n",
      "3221993118752\n"
     ]
    }
   ],
   "source": [
    "#使用torch进行线性代数运算\n",
    "a=torch.tensor([[1,2,3],[4,5,6]])\n",
    "print(id(a))\n",
    "print(\"a的形状:\", a.shape)\n",
    "b=torch.tensor([[7,8],[9,10],[11,12]])\n",
    "print(\"b的形状:\", b.shape)\n",
    "print(id(b))\n",
    "c=torch.mm(a,b)\n",
    "print(\"a和b的矩阵乘法结果c:\")\n",
    "print(c)\n",
    "print(\"c的形状:\", c.shape)\n",
    "print(id(c))"
   ]
  },
  {
   "cell_type": "code",
   "execution_count": 3,
   "id": "a73ffa10",
   "metadata": {},
   "outputs": [],
   "source": [
    "#给出对称矩阵与非对称矩阵\n",
    "system_matrix=torch.tensor([[1,2,3],[2,5,6],[3,6,9]])\n",
    "non_system_matrix=torch.tensor([[1,2,3],[4,5,6],[7,8,9]])"
   ]
  },
  {
   "cell_type": "code",
   "execution_count": null,
   "id": "c374c6ba",
   "metadata": {},
   "outputs": [
    {
     "name": "stdout",
     "output_type": "stream",
     "text": [
      "当前设备: cuda\n"
     ]
    }
   ],
   "source": [
    "#检测设备\n",
    "device=torch.device(\"cuda\" if torch.cuda.is_available() else \"cpu\")\n",
    "print(\"当前设备:\", device)"
   ]
  },
  {
   "cell_type": "code",
   "execution_count": 9,
   "id": "f6c1e028",
   "metadata": {},
   "outputs": [
    {
     "name": "stdout",
     "output_type": "stream",
     "text": [
      "b的形状: torch.Size([3, 4])\n",
      "b的内容:\n",
      "tensor([[ 1,  2,  3,  4],\n",
      "        [ 5,  6,  7,  8],\n",
      "        [ 9, 10, 11, 12]])\n",
      "b的转置:\n",
      "tensor([[ 1,  5,  9],\n",
      "        [ 2,  6, 10],\n",
      "        [ 3,  7, 11],\n",
      "        [ 4,  8, 12]])\n",
      "b和b转置的矩阵乘法结果:\n",
      "tensor([[ 30,  70, 110],\n",
      "        [ 70, 174, 278],\n",
      "        [110, 278, 446]])\n",
      "tensor([[ 30,  70, 110],\n",
      "        [ 70, 174, 278],\n",
      "        [110, 278, 446]])\n",
      "tensor([[ 30,  70, 110],\n",
      "        [ 70, 174, 278],\n",
      "        [110, 278, 446]])\n"
     ]
    }
   ],
   "source": [
    "#使用矩阵的转置\n",
    "b=torch.arange(1, 13).reshape(3, 4)\n",
    "print(\"b的形状:\", b.shape)\n",
    "print(\"b的内容:\")\n",
    "print(b)\n",
    "print(\"b的转置:\")\n",
    "print(b.t())\n",
    "print(\"b和b转置的矩阵乘法结果:\")\n",
    "print(torch.mm(b,b.T))\n",
    "print(torch.mm(b,b.t()))\n",
    "print(b@b.T)"
   ]
  },
  {
   "cell_type": "markdown",
   "id": "c7e33221",
   "metadata": {
    "vscode": {
     "languageId": "ini"
    }
   },
   "source": [
    "# 本Jupyter Notebook已导入pandas和torch，并设置了多线程环境变量。\n",
    "# 已加载数据文件到data_file（DataFrame），并展示了其内容。\n",
    "# 已定义多个torch张量变量：a、b、c、system_matrix、non_system_matrix。\n",
    "# a和b用于线性代数运算，c为a和b的矩阵乘法结果。\n",
    "# system_matrix为对称矩阵，non_system_matrix为非对称矩阵。\n",
    "# 已检测设备并赋值给device（当前为cuda）。\n",
    "# 展示了矩阵b的转置及其与自身转置的乘法结果。"
   ]
  }
 ],
 "metadata": {
  "kernelspec": {
   "display_name": "base",
   "language": "python",
   "name": "python3"
  },
  "language_info": {
   "codemirror_mode": {
    "name": "ipython",
    "version": 3
   },
   "file_extension": ".py",
   "mimetype": "text/x-python",
   "name": "python",
   "nbconvert_exporter": "python",
   "pygments_lexer": "ipython3",
   "version": "3.12.3"
  }
 },
 "nbformat": 4,
 "nbformat_minor": 5
}
