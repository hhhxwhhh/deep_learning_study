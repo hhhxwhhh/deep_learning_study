{
 "cells": [
  {
   "cell_type": "code",
   "execution_count": 3,
   "id": "77135a71",
   "metadata": {},
   "outputs": [
    {
     "name": "stdout",
     "output_type": "stream",
     "text": [
      "   1  2  3\n",
      "0  4  5  6\n"
     ]
    }
   ],
   "source": [
    "import pandas as pd   \n",
    "data_file=pd.read_csv('../how_use_torch/data.csv')\n",
    "print(data_file.head())"
   ]
  }
 ],
 "metadata": {
  "kernelspec": {
   "display_name": "base",
   "language": "python",
   "name": "python3"
  },
  "language_info": {
   "codemirror_mode": {
    "name": "ipython",
    "version": 3
   },
   "file_extension": ".py",
   "mimetype": "text/x-python",
   "name": "python",
   "nbconvert_exporter": "python",
   "pygments_lexer": "ipython3",
   "version": "3.12.3"
  }
 },
 "nbformat": 4,
 "nbformat_minor": 5
}
